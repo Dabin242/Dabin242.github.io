{
  "nbformat": 4,
  "nbformat_minor": 0,
  "metadata": {
    "kernelspec": {
      "name": "python3",
      "display_name": "Python 3",
      "language": "python"
    },
    "language_info": {
      "name": "python",
      "version": "3.8.5",
      "mimetype": "text/x-python",
      "codemirror_mode": {
        "name": "ipython",
        "version": 3
      },
      "pygments_lexer": "ipython3",
      "nbconvert_exporter": "python",
      "file_extension": ".py"
    },
    "colab": {
      "name": "ch#05_DataType(intro, str)_학생용.ipynb",
      "provenance": [],
      "include_colab_link": true
    }
  },
  "cells": [
    {
      "cell_type": "markdown",
      "metadata": {
        "id": "view-in-github",
        "colab_type": "text"
      },
      "source": [
        "<a href=\"https://colab.research.google.com/github/Dabin242/Dabin242.github.io/blob/master/ch_05_DataType(intro%2C_str)_%E1%84%92%E1%85%A1%E1%86%A8%E1%84%89%E1%85%A2%E1%86%BC%E1%84%8B%E1%85%AD%E1%86%BC.ipynb\" target=\"_parent\"><img src=\"https://colab.research.google.com/assets/colab-badge.svg\" alt=\"Open In Colab\"/></a>"
      ]
    },
    {
      "cell_type": "markdown",
      "metadata": {
        "id": "HWOfewT4Q3Mx"
      },
      "source": [
        "# 학습목표\n",
        "\n",
        "* ### <font color=blue> 자료(data, value)와 자료형(type)의 의미에 대해 이해한다.    \n",
        "* ### <font color=blue> 문자열의 생성 방법 및 문자열 관련 연산자를 사용할 수 있다.    \n",
        "\n",
        "<hr>\n",
        "\n",
        "#### <font color=red> 핵심 키워드 : data type, string, escape string, 문자열 관련 연산자, type(), len()"
      ]
    },
    {
      "cell_type": "markdown",
      "metadata": {
        "id": "pgoYPw7CQ3My"
      },
      "source": [
        "# 시작하기 전에\n",
        "\n",
        "프로그램은 기본전으로 <font color=red><b>자료(data)</b></font>를 처리하는 역할을 한다. 프로그래밍에서는 프로그램이 처리(연산)할 수 있는 모든 것을 <font color=red><b>자료(data)</b></font> 라고 한다.  \n",
        "\n",
        "**In programming, data type is an important concept.**\n"
      ]
    },
    {
      "cell_type": "markdown",
      "metadata": {
        "id": "CVzWzcGFQ3M0"
      },
      "source": [
        "# 1. 자료형(Data Type)과 기본 자료형\n",
        "\n",
        "* 자료형(data type)\n",
        "> 프로그래밍 언어는 수많은 자료를 처리한다.   \n",
        "개발자들이 쉽게 사용할 수 있도록 기능과 역할에 따라 자료를 구분하고 있으며 이렇게 구분된 종류가 자료형(data type).  \n",
        "가장 기본적인 자료형으로는 숫자(numeric), 문자(string), boolean등이 있다.  \n",
        "<br>\n",
        "한 언어가 가지고 있는 자료형을 파악하는 것은 그 언어를 파악하는것과 동일하다고 할 만큼 기본적이고 중요하다.  \n",
        "거의 대부분의 언어는 숫자, 문자등을 잘 처리하며 파이썬은 다른 언어와 비교되는 특징적인 자료형을 제공한다<font color=blue>(list, tuple, dictionary)</font>\n",
        "\n",
        "* 파이썬의 자료형\n",
        "\n",
        "|분류|type name|\n",
        "|---|---|\n",
        "|nemeric|int, float, complex|\n",
        "|string|str|\n",
        "|boolean|bool (True, False)|\n",
        "|collection|<font color=red><b>list, tuple, dict, set</b></font>|"
      ]
    },
    {
      "cell_type": "markdown",
      "metadata": {
        "trusted": true,
        "id": "2BXuBERmL0Qi"
      },
      "source": [
        "# 자료형 확인하기  \n",
        "\n",
        "\n"
      ]
    },
    {
      "cell_type": "markdown",
      "metadata": {
        "id": "ek3mHFgwQ3M1"
      },
      "source": [
        "# 2. 문자열(string)\n",
        "\n",
        "* 문자열(string) : 'hafs'처럼 글자들이 나열된 것. '' 또는 \"\"으로 둘러쌓인 모든 것을 문자열이라 한다. 공백포함!  \n",
        "~~~python\n",
        "'Python String! 한글 1234 !@#$%^'\n",
        "\"Python String! 한글 1234 !@#$%^\"\n",
        "'''Python String! 한글 1234 !@#$%^'''\n",
        "\"\"\"Python String! 한글 1234 !@#$%^\"\"\"\n",
        "~~~"
      ]
    },
    {
      "cell_type": "markdown",
      "metadata": {
        "trusted": true,
        "id": "XeKuf0NfL0Qj"
      },
      "source": [
        "# 따옴표를 출력하려면? \n",
        "\n",
        "\n"
      ]
    },
    {
      "cell_type": "markdown",
      "metadata": {
        "trusted": true,
        "id": "rpMBK4x-L0Qj"
      },
      "source": [
        "# 여러 줄 문자열 만들기 : ''' ''' 또는 \"\"\" \"\"\" 를 이용. \n",
        "\n",
        "\n"
      ]
    },
    {
      "cell_type": "markdown",
      "metadata": {
        "trusted": true,
        "id": "qfGucVJEL0Qj"
      },
      "source": [
        "# 문자열에서의 +, * 연산\n",
        "\n",
        "\n"
      ]
    },
    {
      "cell_type": "markdown",
      "metadata": {
        "id": "Cy1rklGnQ3M2"
      },
      "source": [
        "# 3. indexing\n",
        "\n",
        "* 인덱스(index) : string에서 각 문자의 위치 번호. <font color=red>0부터 시작하는것에 주의.  </font>\n",
        "* 문자열[index]로 표시하며 문자열에서 index위치의 문자를 선택(가지고 옴).  \n",
        "\n",
        "|string:|H|e|l|l|o| |w|o|r|l|d|\n",
        "|-|-|-|-|-|-|-|-|-|-|-|-|\n",
        "|index:|0|1|2|3|4|5|6|7|8|9|10|\n",
        "|index:|-11|-10|-9|-8|-7|-6|-5|-4|-3|-2|-1| "
      ]
    },
    {
      "cell_type": "markdown",
      "metadata": {
        "trusted": true,
        "id": "BiK8MlOzL0Qk"
      },
      "source": [
        "# (positive)index 연습\n",
        "\n",
        "\n"
      ]
    },
    {
      "cell_type": "markdown",
      "metadata": {
        "trusted": true,
        "id": "m-Jn14mlL0Qk"
      },
      "source": [
        "# (negative) index 연습\n",
        "\n",
        "\n"
      ]
    },
    {
      "cell_type": "markdown",
      "metadata": {
        "id": "e41LguqeQ3M3"
      },
      "source": [
        "# 4. slicing\n",
        "\n",
        "* 잘라내기(slicing) : indexing은 문자한개만 가지고 오지만 슬라이싱은 범위를 지정해 여러개의 문자를 가지고 올 수 있다.   \n",
        "~~~python\n",
        "a = \"Life is too short, You need Python\"\n",
        "#문자열 a 중에서 Life만 가지고 오고 싶다면??\n",
        "print(a[0] + a[1] + a[2] + a[3])  # 더 좋은 방법이 없을까?\n",
        "print(a[0:4])  # slicing\n",
        "~~~\n",
        "<font color=blue>문자열[start : end : step]</font>  \n",
        "각각 start, end, step 모두 양수와 음수가능.  \n",
        "start : 슬라이싱을 시작할 시작위치.  \n",
        "end : 슬라이싱을 끝낼 위치로 end는 포함하지 않음.  \n",
        "step : stride라고도 하며 몇개씩 끊어서 가져올지를 결정(옵션).  \n",
        "\n",
        "~~~python\n",
        "a[start:stop]  # items start through stop-1  \n",
        "a[start:]      # items start through the rest of the array   \n",
        "a[:stop]       # items from the beginning through stop-1  \n",
        "a[:]           # a copy of the whole array  \n",
        "~~~"
      ]
    },
    {
      "cell_type": "markdown",
      "metadata": {
        "trusted": true,
        "id": "ozEkvILzL0Ql"
      },
      "source": [
        "# 슬라이싱 연습\n",
        "\n",
        "\n"
      ]
    },
    {
      "cell_type": "markdown",
      "metadata": {
        "id": "Z2aRC-9SL0Ql"
      },
      "source": [
        "---\n",
        "a = [0, 10, 20, 30, 40, 50, 60, 70, 80, 90] 일때\n",
        "\n",
        "![image.png](attachment:d5f0dcf0-42bc-42c7-bb98-c070ab48c00d.png)\n",
        "\n",
        "![image2.png](attachment:9e5ab214-35cc-47ee-a630-2aa7ba3b713f.png)\n",
        "\n",
        "![image3.png](attachment:3c8f988e-b46b-4430-8640-f5375a367ed9.png)"
      ]
    },
    {
      "cell_type": "markdown",
      "metadata": {
        "id": "GrImaeftQ3M5"
      },
      "source": [
        "# 5. 문자열의 길이(length) 구하기\n",
        "\n",
        "* len():스트링을 구성하는 문자의 갯수를 구할 수 있다.  \n",
        "내장함수(built-in function)   \n",
        "~~~python\n",
        "print(len('hafs'))\n",
        "~~~\n",
        "\n",
        "* help() : python이 제공하는 가장 기본적이고 핵심적인 도움말\n",
        "~~~python\n",
        "help(len)  \n",
        "help(print)\n",
        "~~~"
      ]
    },
    {
      "cell_type": "code",
      "metadata": {
        "id": "VAek7buyQ3M7",
        "trusted": true
      },
      "source": [
        "help(len)"
      ],
      "execution_count": null,
      "outputs": []
    }
  ]
}